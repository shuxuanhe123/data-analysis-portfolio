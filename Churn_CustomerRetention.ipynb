{
  "nbformat": 4,
  "nbformat_minor": 0,
  "metadata": {
    "colab": {
      "provenance": [],
      "name": "Churn_CustomerRetention.ipynb"
    },
    "kernelspec": {
      "name": "python3",
      "display_name": "Python 3"
    },
    "language_info": {
      "name": "python"
    }
  },
  "cells": [
    {
      "cell_type": "markdown",
      "source": [
        "#Predicting User Churn to Enhance Customer Retention: An Analysis Using Machine Learning Models\n",
        "\n",
        "##Goal:\n",
        "The goal of the project is to predict user churn in order to enhance customer retention. By analyzing data on user demographics and viewing habits, the objective is to identify and re-engage users who are contemplating terminating their subscriptions. Successfully implementing this model can lead to substantial financial benefits and fortified customer loyalty."
      ],
      "metadata": {
        "id": "UmYq6X7R7Qzb"
      }
    },
    {
      "cell_type": "markdown",
      "source": [
        "###Importing Necessary Packages:\n"
      ],
      "metadata": {
        "id": "CD_bAe0rD-TQ"
      }
    },
    {
      "cell_type": "code",
      "execution_count": 12,
      "metadata": {
        "colab": {
          "base_uri": "https://localhost:8080/"
        },
        "id": "xjPIwKTAFqT2",
        "outputId": "094b9021-c5be-4777-d995-ac9c7ae25481"
      },
      "outputs": [
        {
          "output_type": "stream",
          "name": "stdout",
          "text": [
            "1.2.2\n"
          ]
        }
      ],
      "source": [
        "import warnings\n",
        "warnings.filterwarnings('ignore', category=UserWarning, module='sklearn')\n",
        "import sklearn\n",
        "print(sklearn.__version__)\n",
        "import pandas as pd\n",
        "from sklearn.model_selection import train_test_split\n",
        "from sklearn.compose import ColumnTransformer\n",
        "from sklearn.pipeline import Pipeline\n",
        "from sklearn.impute import SimpleImputer\n",
        "from sklearn.preprocessing import StandardScaler, OneHotEncoder\n",
        "from sklearn.linear_model import LogisticRegression\n",
        "from sklearn.metrics import accuracy_score, recall_score, precision_score, roc_auc_score, RocCurveDisplay\n",
        "from sklearn.ensemble import GradientBoostingClassifier\n",
        "import matplotlib.pyplot as plt"
      ]
    },
    {
      "cell_type": "markdown",
      "source": [
        "###Loading and Inspecting the Data:"
      ],
      "metadata": {
        "id": "SM0VGl8uELwF"
      }
    },
    {
      "cell_type": "code",
      "source": [
        "df = pd.read_csv(\"https://raw.githubusercontent.com/cmparlettpelleriti/CPSC392ParlettPelleriti/master/Data/streaming.csv\")\n",
        "print(df.head())"
      ],
      "metadata": {
        "colab": {
          "base_uri": "https://localhost:8080/"
        },
        "id": "YnDqQMqJF3HS",
        "outputId": "3037c977-3c4a-4eac-fa81-f30f868fc0ae"
      },
      "execution_count": 4,
      "outputs": [
        {
          "output_type": "stream",
          "name": "stdout",
          "text": [
            "      gender   age  income  monthssubbed plan  meanhourswatched  \\\n",
            "0      woman  38.0   92.29            35    P              9.34   \n",
            "1      woman  43.0   63.40            41    P             11.36   \n",
            "2  nonbinary  54.0   54.87            59    A             11.82   \n",
            "3      woman  46.0   89.20            41    B             46.89   \n",
            "4        man  42.0   75.61            17    A             39.18   \n",
            "\n",
            "   competitorsub  numprofiles  cancelled  downgraded  bundle  kids  \\\n",
            "0              0            1        0.0           0       0     1   \n",
            "1              0            2        0.0           0       1     1   \n",
            "2              1            2        0.0           0       0     1   \n",
            "3              1            2        1.0           1       1     0   \n",
            "4              1            2        0.0           0       0     0   \n",
            "\n",
            "   longestsession        topgenre     secondgenre  churn  \n",
            "0          130.39           Drama        Thriller      0  \n",
            "1          144.10          Horror  RomanticComedy      0  \n",
            "2          256.46  ScienceFiction          Comedy      1  \n",
            "3           47.66  RomanticComedy  ScienceFiction      1  \n",
            "4          137.22          Comedy           Drama      0  \n"
          ]
        }
      ]
    },
    {
      "cell_type": "markdown",
      "source": [
        "###Data Cleaning and Preprocessing:"
      ],
      "metadata": {
        "id": "Y26sc1u9EUDV"
      }
    },
    {
      "cell_type": "code",
      "source": [
        "# Drop missing values and reset index\n",
        "df = df.dropna().reset_index(drop=True)\n",
        "\n",
        "# Separate features and target\n",
        "X = df.drop('churn', axis=1)\n",
        "y = df['churn']\n",
        "\n",
        "# Train-test split\n",
        "X_train, X_test, y_train, y_test = train_test_split(X, y, test_size=0.1, random_state=42)"
      ],
      "metadata": {
        "id": "R0YYkwuQHuxq"
      },
      "execution_count": 5,
      "outputs": []
    },
    {
      "cell_type": "markdown",
      "source": [
        "###Identifying Categorical and Numerical Features\n"
      ],
      "metadata": {
        "id": "w7SS0K6NHFsE"
      }
    },
    {
      "cell_type": "code",
      "source": [
        "# Identify categorical and numerical features\n",
        "categorical_features = ['gender', 'plan', 'competitorsub', 'topgenre', 'secondgenre', 'cancelled', 'downgraded', 'bundle', 'kids']\n",
        "numerical_features = ['age', 'income', 'monthssubbed', 'meanhourswatched', 'numprofiles', 'longestsession']"
      ],
      "metadata": {
        "id": "87MR3uDRG-iz"
      },
      "execution_count": 6,
      "outputs": []
    },
    {
      "cell_type": "markdown",
      "source": [
        "###Creating Transformers for Preprocessing"
      ],
      "metadata": {
        "id": "O46h8kzhHOi6"
      }
    },
    {
      "cell_type": "code",
      "source": [
        "# Create transformers\n",
        "numerical_transformer = Pipeline(steps=[\n",
        "    ('imputer', SimpleImputer(strategy='median')),\n",
        "    ('scaler', StandardScaler())\n",
        "])\n",
        "categorical_transformer = Pipeline(steps=[\n",
        "    ('imputer', SimpleImputer(strategy='most_frequent')),\n",
        "    ('onehot', OneHotEncoder(handle_unknown='ignore'))\n",
        "])\n",
        "# Bundle preprocessing for numerical and categorical data\n",
        "preprocessor = ColumnTransformer(\n",
        "    transformers=[\n",
        "        ('num', numerical_transformer, numerical_features),\n",
        "        ('cat', categorical_transformer, categorical_features)\n",
        "    ])"
      ],
      "metadata": {
        "id": "Jitv6Y1yHNk8"
      },
      "execution_count": 7,
      "outputs": []
    },
    {
      "cell_type": "markdown",
      "source": [
        "###Defining and Training Machine Learning Models"
      ],
      "metadata": {
        "id": "TwV8x6AWHjmb"
      }
    },
    {
      "cell_type": "code",
      "source": [
        "# Define the models\n",
        "model1 = Pipeline(steps=[\n",
        "    ('preprocessor', preprocessor),\n",
        "    ('model', LogisticRegression(random_state=42))\n",
        "])\n",
        "\n",
        "model2 = Pipeline(steps=[\n",
        "    ('preprocessor', preprocessor),\n",
        "    ('model', GradientBoostingClassifier(random_state=42))\n",
        "])\n",
        "\n",
        "# Train the models\n",
        "model1.fit(X_train, y_train)\n",
        "model2.fit(X_train, y_train)"
      ],
      "metadata": {
        "id": "sooTlRZTHz0J",
        "colab": {
          "base_uri": "https://localhost:8080/",
          "height": 227
        },
        "outputId": "85034689-127d-48d7-a458-4b1ef9107433"
      },
      "execution_count": 8,
      "outputs": [
        {
          "output_type": "execute_result",
          "data": {
            "text/plain": [
              "Pipeline(steps=[('preprocessor',\n",
              "                 ColumnTransformer(transformers=[('num',\n",
              "                                                  Pipeline(steps=[('imputer',\n",
              "                                                                   SimpleImputer(strategy='median')),\n",
              "                                                                  ('scaler',\n",
              "                                                                   StandardScaler())]),\n",
              "                                                  ['age', 'income',\n",
              "                                                   'monthssubbed',\n",
              "                                                   'meanhourswatched',\n",
              "                                                   'numprofiles',\n",
              "                                                   'longestsession']),\n",
              "                                                 ('cat',\n",
              "                                                  Pipeline(steps=[('imputer',\n",
              "                                                                   SimpleImputer(strategy='most_frequent')),\n",
              "                                                                  ('onehot',\n",
              "                                                                   OneHotEncoder(handle_unknown='ignore'))]),\n",
              "                                                  ['gender', 'plan',\n",
              "                                                   'competitorsub', 'topgenre',\n",
              "                                                   'secondgenre', 'cancelled',\n",
              "                                                   'downgraded', 'bundle',\n",
              "                                                   'kids'])])),\n",
              "                ('model', GradientBoostingClassifier(random_state=42))])"
            ],
            "text/html": [
              "<style>#sk-container-id-1 {color: black;background-color: white;}#sk-container-id-1 pre{padding: 0;}#sk-container-id-1 div.sk-toggleable {background-color: white;}#sk-container-id-1 label.sk-toggleable__label {cursor: pointer;display: block;width: 100%;margin-bottom: 0;padding: 0.3em;box-sizing: border-box;text-align: center;}#sk-container-id-1 label.sk-toggleable__label-arrow:before {content: \"▸\";float: left;margin-right: 0.25em;color: #696969;}#sk-container-id-1 label.sk-toggleable__label-arrow:hover:before {color: black;}#sk-container-id-1 div.sk-estimator:hover label.sk-toggleable__label-arrow:before {color: black;}#sk-container-id-1 div.sk-toggleable__content {max-height: 0;max-width: 0;overflow: hidden;text-align: left;background-color: #f0f8ff;}#sk-container-id-1 div.sk-toggleable__content pre {margin: 0.2em;color: black;border-radius: 0.25em;background-color: #f0f8ff;}#sk-container-id-1 input.sk-toggleable__control:checked~div.sk-toggleable__content {max-height: 200px;max-width: 100%;overflow: auto;}#sk-container-id-1 input.sk-toggleable__control:checked~label.sk-toggleable__label-arrow:before {content: \"▾\";}#sk-container-id-1 div.sk-estimator input.sk-toggleable__control:checked~label.sk-toggleable__label {background-color: #d4ebff;}#sk-container-id-1 div.sk-label input.sk-toggleable__control:checked~label.sk-toggleable__label {background-color: #d4ebff;}#sk-container-id-1 input.sk-hidden--visually {border: 0;clip: rect(1px 1px 1px 1px);clip: rect(1px, 1px, 1px, 1px);height: 1px;margin: -1px;overflow: hidden;padding: 0;position: absolute;width: 1px;}#sk-container-id-1 div.sk-estimator {font-family: monospace;background-color: #f0f8ff;border: 1px dotted black;border-radius: 0.25em;box-sizing: border-box;margin-bottom: 0.5em;}#sk-container-id-1 div.sk-estimator:hover {background-color: #d4ebff;}#sk-container-id-1 div.sk-parallel-item::after {content: \"\";width: 100%;border-bottom: 1px solid gray;flex-grow: 1;}#sk-container-id-1 div.sk-label:hover label.sk-toggleable__label {background-color: #d4ebff;}#sk-container-id-1 div.sk-serial::before {content: \"\";position: absolute;border-left: 1px solid gray;box-sizing: border-box;top: 0;bottom: 0;left: 50%;z-index: 0;}#sk-container-id-1 div.sk-serial {display: flex;flex-direction: column;align-items: center;background-color: white;padding-right: 0.2em;padding-left: 0.2em;position: relative;}#sk-container-id-1 div.sk-item {position: relative;z-index: 1;}#sk-container-id-1 div.sk-parallel {display: flex;align-items: stretch;justify-content: center;background-color: white;position: relative;}#sk-container-id-1 div.sk-item::before, #sk-container-id-1 div.sk-parallel-item::before {content: \"\";position: absolute;border-left: 1px solid gray;box-sizing: border-box;top: 0;bottom: 0;left: 50%;z-index: -1;}#sk-container-id-1 div.sk-parallel-item {display: flex;flex-direction: column;z-index: 1;position: relative;background-color: white;}#sk-container-id-1 div.sk-parallel-item:first-child::after {align-self: flex-end;width: 50%;}#sk-container-id-1 div.sk-parallel-item:last-child::after {align-self: flex-start;width: 50%;}#sk-container-id-1 div.sk-parallel-item:only-child::after {width: 0;}#sk-container-id-1 div.sk-dashed-wrapped {border: 1px dashed gray;margin: 0 0.4em 0.5em 0.4em;box-sizing: border-box;padding-bottom: 0.4em;background-color: white;}#sk-container-id-1 div.sk-label label {font-family: monospace;font-weight: bold;display: inline-block;line-height: 1.2em;}#sk-container-id-1 div.sk-label-container {text-align: center;}#sk-container-id-1 div.sk-container {/* jupyter's `normalize.less` sets `[hidden] { display: none; }` but bootstrap.min.css set `[hidden] { display: none !important; }` so we also need the `!important` here to be able to override the default hidden behavior on the sphinx rendered scikit-learn.org. See: https://github.com/scikit-learn/scikit-learn/issues/21755 */display: inline-block !important;position: relative;}#sk-container-id-1 div.sk-text-repr-fallback {display: none;}</style><div id=\"sk-container-id-1\" class=\"sk-top-container\"><div class=\"sk-text-repr-fallback\"><pre>Pipeline(steps=[(&#x27;preprocessor&#x27;,\n",
              "                 ColumnTransformer(transformers=[(&#x27;num&#x27;,\n",
              "                                                  Pipeline(steps=[(&#x27;imputer&#x27;,\n",
              "                                                                   SimpleImputer(strategy=&#x27;median&#x27;)),\n",
              "                                                                  (&#x27;scaler&#x27;,\n",
              "                                                                   StandardScaler())]),\n",
              "                                                  [&#x27;age&#x27;, &#x27;income&#x27;,\n",
              "                                                   &#x27;monthssubbed&#x27;,\n",
              "                                                   &#x27;meanhourswatched&#x27;,\n",
              "                                                   &#x27;numprofiles&#x27;,\n",
              "                                                   &#x27;longestsession&#x27;]),\n",
              "                                                 (&#x27;cat&#x27;,\n",
              "                                                  Pipeline(steps=[(&#x27;imputer&#x27;,\n",
              "                                                                   SimpleImputer(strategy=&#x27;most_frequent&#x27;)),\n",
              "                                                                  (&#x27;onehot&#x27;,\n",
              "                                                                   OneHotEncoder(handle_unknown=&#x27;ignore&#x27;))]),\n",
              "                                                  [&#x27;gender&#x27;, &#x27;plan&#x27;,\n",
              "                                                   &#x27;competitorsub&#x27;, &#x27;topgenre&#x27;,\n",
              "                                                   &#x27;secondgenre&#x27;, &#x27;cancelled&#x27;,\n",
              "                                                   &#x27;downgraded&#x27;, &#x27;bundle&#x27;,\n",
              "                                                   &#x27;kids&#x27;])])),\n",
              "                (&#x27;model&#x27;, GradientBoostingClassifier(random_state=42))])</pre><b>In a Jupyter environment, please rerun this cell to show the HTML representation or trust the notebook. <br />On GitHub, the HTML representation is unable to render, please try loading this page with nbviewer.org.</b></div><div class=\"sk-container\" hidden><div class=\"sk-item sk-dashed-wrapped\"><div class=\"sk-label-container\"><div class=\"sk-label sk-toggleable\"><input class=\"sk-toggleable__control sk-hidden--visually\" id=\"sk-estimator-id-1\" type=\"checkbox\" ><label for=\"sk-estimator-id-1\" class=\"sk-toggleable__label sk-toggleable__label-arrow\">Pipeline</label><div class=\"sk-toggleable__content\"><pre>Pipeline(steps=[(&#x27;preprocessor&#x27;,\n",
              "                 ColumnTransformer(transformers=[(&#x27;num&#x27;,\n",
              "                                                  Pipeline(steps=[(&#x27;imputer&#x27;,\n",
              "                                                                   SimpleImputer(strategy=&#x27;median&#x27;)),\n",
              "                                                                  (&#x27;scaler&#x27;,\n",
              "                                                                   StandardScaler())]),\n",
              "                                                  [&#x27;age&#x27;, &#x27;income&#x27;,\n",
              "                                                   &#x27;monthssubbed&#x27;,\n",
              "                                                   &#x27;meanhourswatched&#x27;,\n",
              "                                                   &#x27;numprofiles&#x27;,\n",
              "                                                   &#x27;longestsession&#x27;]),\n",
              "                                                 (&#x27;cat&#x27;,\n",
              "                                                  Pipeline(steps=[(&#x27;imputer&#x27;,\n",
              "                                                                   SimpleImputer(strategy=&#x27;most_frequent&#x27;)),\n",
              "                                                                  (&#x27;onehot&#x27;,\n",
              "                                                                   OneHotEncoder(handle_unknown=&#x27;ignore&#x27;))]),\n",
              "                                                  [&#x27;gender&#x27;, &#x27;plan&#x27;,\n",
              "                                                   &#x27;competitorsub&#x27;, &#x27;topgenre&#x27;,\n",
              "                                                   &#x27;secondgenre&#x27;, &#x27;cancelled&#x27;,\n",
              "                                                   &#x27;downgraded&#x27;, &#x27;bundle&#x27;,\n",
              "                                                   &#x27;kids&#x27;])])),\n",
              "                (&#x27;model&#x27;, GradientBoostingClassifier(random_state=42))])</pre></div></div></div><div class=\"sk-serial\"><div class=\"sk-item sk-dashed-wrapped\"><div class=\"sk-label-container\"><div class=\"sk-label sk-toggleable\"><input class=\"sk-toggleable__control sk-hidden--visually\" id=\"sk-estimator-id-2\" type=\"checkbox\" ><label for=\"sk-estimator-id-2\" class=\"sk-toggleable__label sk-toggleable__label-arrow\">preprocessor: ColumnTransformer</label><div class=\"sk-toggleable__content\"><pre>ColumnTransformer(transformers=[(&#x27;num&#x27;,\n",
              "                                 Pipeline(steps=[(&#x27;imputer&#x27;,\n",
              "                                                  SimpleImputer(strategy=&#x27;median&#x27;)),\n",
              "                                                 (&#x27;scaler&#x27;, StandardScaler())]),\n",
              "                                 [&#x27;age&#x27;, &#x27;income&#x27;, &#x27;monthssubbed&#x27;,\n",
              "                                  &#x27;meanhourswatched&#x27;, &#x27;numprofiles&#x27;,\n",
              "                                  &#x27;longestsession&#x27;]),\n",
              "                                (&#x27;cat&#x27;,\n",
              "                                 Pipeline(steps=[(&#x27;imputer&#x27;,\n",
              "                                                  SimpleImputer(strategy=&#x27;most_frequent&#x27;)),\n",
              "                                                 (&#x27;onehot&#x27;,\n",
              "                                                  OneHotEncoder(handle_unknown=&#x27;ignore&#x27;))]),\n",
              "                                 [&#x27;gender&#x27;, &#x27;plan&#x27;, &#x27;competitorsub&#x27;, &#x27;topgenre&#x27;,\n",
              "                                  &#x27;secondgenre&#x27;, &#x27;cancelled&#x27;, &#x27;downgraded&#x27;,\n",
              "                                  &#x27;bundle&#x27;, &#x27;kids&#x27;])])</pre></div></div></div><div class=\"sk-parallel\"><div class=\"sk-parallel-item\"><div class=\"sk-item\"><div class=\"sk-label-container\"><div class=\"sk-label sk-toggleable\"><input class=\"sk-toggleable__control sk-hidden--visually\" id=\"sk-estimator-id-3\" type=\"checkbox\" ><label for=\"sk-estimator-id-3\" class=\"sk-toggleable__label sk-toggleable__label-arrow\">num</label><div class=\"sk-toggleable__content\"><pre>[&#x27;age&#x27;, &#x27;income&#x27;, &#x27;monthssubbed&#x27;, &#x27;meanhourswatched&#x27;, &#x27;numprofiles&#x27;, &#x27;longestsession&#x27;]</pre></div></div></div><div class=\"sk-serial\"><div class=\"sk-item\"><div class=\"sk-serial\"><div class=\"sk-item\"><div class=\"sk-estimator sk-toggleable\"><input class=\"sk-toggleable__control sk-hidden--visually\" id=\"sk-estimator-id-4\" type=\"checkbox\" ><label for=\"sk-estimator-id-4\" class=\"sk-toggleable__label sk-toggleable__label-arrow\">SimpleImputer</label><div class=\"sk-toggleable__content\"><pre>SimpleImputer(strategy=&#x27;median&#x27;)</pre></div></div></div><div class=\"sk-item\"><div class=\"sk-estimator sk-toggleable\"><input class=\"sk-toggleable__control sk-hidden--visually\" id=\"sk-estimator-id-5\" type=\"checkbox\" ><label for=\"sk-estimator-id-5\" class=\"sk-toggleable__label sk-toggleable__label-arrow\">StandardScaler</label><div class=\"sk-toggleable__content\"><pre>StandardScaler()</pre></div></div></div></div></div></div></div></div><div class=\"sk-parallel-item\"><div class=\"sk-item\"><div class=\"sk-label-container\"><div class=\"sk-label sk-toggleable\"><input class=\"sk-toggleable__control sk-hidden--visually\" id=\"sk-estimator-id-6\" type=\"checkbox\" ><label for=\"sk-estimator-id-6\" class=\"sk-toggleable__label sk-toggleable__label-arrow\">cat</label><div class=\"sk-toggleable__content\"><pre>[&#x27;gender&#x27;, &#x27;plan&#x27;, &#x27;competitorsub&#x27;, &#x27;topgenre&#x27;, &#x27;secondgenre&#x27;, &#x27;cancelled&#x27;, &#x27;downgraded&#x27;, &#x27;bundle&#x27;, &#x27;kids&#x27;]</pre></div></div></div><div class=\"sk-serial\"><div class=\"sk-item\"><div class=\"sk-serial\"><div class=\"sk-item\"><div class=\"sk-estimator sk-toggleable\"><input class=\"sk-toggleable__control sk-hidden--visually\" id=\"sk-estimator-id-7\" type=\"checkbox\" ><label for=\"sk-estimator-id-7\" class=\"sk-toggleable__label sk-toggleable__label-arrow\">SimpleImputer</label><div class=\"sk-toggleable__content\"><pre>SimpleImputer(strategy=&#x27;most_frequent&#x27;)</pre></div></div></div><div class=\"sk-item\"><div class=\"sk-estimator sk-toggleable\"><input class=\"sk-toggleable__control sk-hidden--visually\" id=\"sk-estimator-id-8\" type=\"checkbox\" ><label for=\"sk-estimator-id-8\" class=\"sk-toggleable__label sk-toggleable__label-arrow\">OneHotEncoder</label><div class=\"sk-toggleable__content\"><pre>OneHotEncoder(handle_unknown=&#x27;ignore&#x27;)</pre></div></div></div></div></div></div></div></div></div></div><div class=\"sk-item\"><div class=\"sk-estimator sk-toggleable\"><input class=\"sk-toggleable__control sk-hidden--visually\" id=\"sk-estimator-id-9\" type=\"checkbox\" ><label for=\"sk-estimator-id-9\" class=\"sk-toggleable__label sk-toggleable__label-arrow\">GradientBoostingClassifier</label><div class=\"sk-toggleable__content\"><pre>GradientBoostingClassifier(random_state=42)</pre></div></div></div></div></div></div></div>"
            ]
          },
          "metadata": {},
          "execution_count": 8
        }
      ]
    },
    {
      "cell_type": "markdown",
      "source": [
        "### Predictions and Evaluations for Model 1"
      ],
      "metadata": {
        "id": "BISsLMHVHoxt"
      }
    },
    {
      "cell_type": "code",
      "source": [
        "y_train_pred1 = model1.predict(X_train)\n",
        "y_test_pred1 = model1.predict(X_test)\n",
        "\n",
        "print('Model 1 - Logistic Regression:')\n",
        "print('Training Accuracy:', accuracy_score(y_train, y_train_pred1))\n",
        "print('Testing Accuracy:', accuracy_score(y_test, y_test_pred1))\n",
        "print('Training Recall:', recall_score(y_train, y_train_pred1))\n",
        "print('Testing Recall:', recall_score(y_test, y_test_pred1))\n",
        "print('Training Precision:', precision_score(y_train, y_train_pred1))\n",
        "print('Testing Precision:', precision_score(y_test, y_test_pred1))\n",
        "print('Training ROC AUC:', roc_auc_score(y_train, model1.predict_proba(X_train)[:, 1]))\n",
        "print('Testing ROC AUC:', roc_auc_score(y_test, model1.predict_proba(X_test)[:, 1]))\n"
      ],
      "metadata": {
        "id": "VRK8Og9oILQW",
        "colab": {
          "base_uri": "https://localhost:8080/"
        },
        "outputId": "ffd2edb5-65eb-42d6-b08c-1affeabc2347"
      },
      "execution_count": null,
      "outputs": [
        {
          "output_type": "stream",
          "name": "stdout",
          "text": [
            "Model 1 - Logistic Regression:\n",
            "Training Accuracy: 0.7415689956989995\n",
            "Testing Accuracy: 0.7372978612415232\n",
            "Training Recall: 0.2744724025974026\n",
            "Testing Recall: 0.283545197740113\n",
            "Training Precision: 0.6050277330470567\n",
            "Testing Precision: 0.621517027863777\n",
            "Training ROC AUC: 0.7353642852242614\n",
            "Testing ROC AUC: 0.740078326770023\n"
          ]
        }
      ]
    },
    {
      "cell_type": "markdown",
      "source": [
        "###Predictions and Evaluations for Model 2"
      ],
      "metadata": {
        "id": "RUN-3l-0HuO0"
      }
    },
    {
      "cell_type": "code",
      "source": [
        "# Predictions and evaluations for model 2\n",
        "y_train_pred2 = model2.predict(X_train)\n",
        "y_test_pred2 = model2.predict(X_test)\n",
        "\n",
        "print('\\nModel 2 - Gradient Boosting Classifier:')\n",
        "print('Training Accuracy:', accuracy_score(y_train, y_train_pred2))\n",
        "print('Testing Accuracy:', accuracy_score(y_test, y_test_pred2))\n",
        "print('Training Recall:', recall_score(y_train, y_train_pred2))\n",
        "print('Testing Recall:', recall_score(y_test, y_test_pred2))\n",
        "print('Training Precision:', precision_score(y_train, y_train_pred2))\n",
        "print('Testing Precision:', precision_score(y_test, y_test_pred2))\n",
        "print('Training ROC AUC:', roc_auc_score(y_train, model2.predict_proba(X_train)[:, 1]))\n",
        "print('Testing ROC AUC:', roc_auc_score(y_test, model2.predict_proba(X_test)[:, 1]))\n",
        "\n",
        "# Compare ROC AUC on testing set\n",
        "fig, ax = plt.subplots()\n",
        "plot_roc_curve(model1, X_test, y_test, ax=ax, name='Logistic Regression')\n",
        "plot_roc_curve(model2, X_test, y_test, ax=ax, name='Gradient Boosting')\n",
        "plt.show()\n"
      ],
      "metadata": {
        "colab": {
          "base_uri": "https://localhost:8080/",
          "height": 712
        },
        "id": "hYLVsjztIOw0",
        "outputId": "863055cd-7d14-4687-937c-0bb39eb6c946"
      },
      "execution_count": null,
      "outputs": [
        {
          "output_type": "stream",
          "name": "stdout",
          "text": [
            "\n",
            "Model 2 - Gradient Boosting Classifier:\n",
            "Training Accuracy: 0.7440498962427109\n",
            "Testing Accuracy: 0.7360459050599896\n",
            "Training Recall: 0.26550324675324677\n",
            "Testing Recall: 0.2687146892655367\n",
            "Training Precision: 0.6217449154153203\n",
            "Testing Precision: 0.6237704918032787\n",
            "Training ROC AUC: 0.7400460771660706\n",
            "Testing ROC AUC: 0.7389450681471553\n"
          ]
        },
        {
          "output_type": "stream",
          "name": "stderr",
          "text": [
            "/usr/local/lib/python3.10/dist-packages/sklearn/utils/deprecation.py:87: FutureWarning: Function plot_roc_curve is deprecated; Function :func:`plot_roc_curve` is deprecated in 1.0 and will be removed in 1.2. Use one of the class methods: :meth:`sklearn.metrics.RocCurveDisplay.from_predictions` or :meth:`sklearn.metrics.RocCurveDisplay.from_estimator`.\n",
            "  warnings.warn(msg, category=FutureWarning)\n",
            "/usr/local/lib/python3.10/dist-packages/sklearn/utils/deprecation.py:87: FutureWarning: Function plot_roc_curve is deprecated; Function :func:`plot_roc_curve` is deprecated in 1.0 and will be removed in 1.2. Use one of the class methods: :meth:`sklearn.metrics.RocCurveDisplay.from_predictions` or :meth:`sklearn.metrics.RocCurveDisplay.from_estimator`.\n",
            "  warnings.warn(msg, category=FutureWarning)\n"
          ]
        },
        {
          "output_type": "display_data",
          "data": {
            "text/plain": [
              "<Figure size 640x480 with 1 Axes>"
            ],
            "image/png": "[encoded data removed]"
          },
          "metadata": {}
        }
      ]
    },
    {
      "cell_type": "markdown",
      "source": [
        "###Results:\n",
        "\n",
        "The accuracy statistic highlighted the general dependability of the approach by indicating fewer inaccurate predictions. I could clearly see the true positive identifications thanks to precision, which demonstrated the model's skill at identifying users who are actually at danger of churn. On the other hand, Recall highlighted how the strategy could effectively capture the majority of possible churners while ensuring little oversight. A strong ROC AUC value, emphasizing the model's performance, further supported its discriminatory ability. Additionally, the model's excellent calibration resulted in a near match between the projected and actual probabilities. When these metrics were evaluated as a whole, the Logistic Regression model emerged as the best acceptable for use. Because of its excellent accuracy and interpretability, it is an excellent fit for the objectives.\n"
      ],
      "metadata": {
        "id": "89JNjJxwH6ov"
      }
    },
    {
      "cell_type": "markdown",
      "source": [
        "###Discussion:\n",
        "\n",
        "While the precision of both models was commendable, the relatively lower recall indicates a potential risk of missing out on identifying certain high-risk customers. For businesses, this could translate to missed opportunities for targeted interventions. The process of going through the complexities of user behavior that this project took me on was interesting. It brought home the value of data analytics in forming business plans. In the future, I plan to incorporate real-time user interactions and comments to improve our models."
      ],
      "metadata": {
        "id": "jPsPY6RhIGkf"
      }
    },
    {
      "cell_type": "markdown",
      "source": [
        "###Conclusion:\n",
        "\n",
        "I developed and evaluated machine learning models to predict customer churn using user demographics and viewing habits. Through thorough preprocessing, we built and compared Logistic Regression and Gradient Boosting Classifier models. The Logistic Regression model performed best, offering high accuracy and interpretability. This model will help identify high-risk customers, enabling targeted retention strategies to enhance loyalty and financial outcomes. Future improvements could include additional features and further optimization of model parameters. This project demonstrates the value of data analytics in strategic business decision-making and customer retention."
      ],
      "metadata": {
        "id": "KHsFziSPJUfg"
      }
    }
  ]
}